{
 "cells": [
  {
   "cell_type": "markdown",
   "id": "4a811d9b",
   "metadata": {},
   "source": [
    "# PYTHON DAY 1"
   ]
  },
  {
   "cell_type": "code",
   "execution_count": 1,
   "id": "c0a4c169",
   "metadata": {},
   "outputs": [
    {
     "name": "stdout",
     "output_type": "stream",
     "text": [
      "hello prince\n"
     ]
    }
   ],
   "source": [
    "print(\"hello prince\")"
   ]
  },
  {
   "cell_type": "code",
   "execution_count": 2,
   "id": "9cc2df3b",
   "metadata": {},
   "outputs": [],
   "source": [
    "x=3"
   ]
  },
  {
   "cell_type": "code",
   "execution_count": 3,
   "id": "53b2f1b1",
   "metadata": {},
   "outputs": [
    {
     "name": "stdout",
     "output_type": "stream",
     "text": [
      "Variable   Type    Data/Info\n",
      "----------------------------\n",
      "x          int     3\n"
     ]
    }
   ],
   "source": [
    "%whos"
   ]
  },
  {
   "cell_type": "code",
   "execution_count": 4,
   "id": "6f3bab76",
   "metadata": {},
   "outputs": [
    {
     "name": "stdout",
     "output_type": "stream",
     "text": [
      "<class 'int'>\n"
     ]
    }
   ],
   "source": [
    "print(type(x))"
   ]
  },
  {
   "cell_type": "code",
   "execution_count": 5,
   "id": "ed62f527",
   "metadata": {},
   "outputs": [],
   "source": [
    "abcd=456.78"
   ]
  },
  {
   "cell_type": "code",
   "execution_count": 6,
   "id": "1c5cdee6",
   "metadata": {},
   "outputs": [
    {
     "name": "stdout",
     "output_type": "stream",
     "text": [
      "Variable   Type     Data/Info\n",
      "-----------------------------\n",
      "abcd       float    456.78\n",
      "x          int      3\n"
     ]
    }
   ],
   "source": [
    "%whos"
   ]
  },
  {
   "cell_type": "code",
   "execution_count": 7,
   "id": "18f79eeb",
   "metadata": {},
   "outputs": [],
   "source": [
    "del abcd"
   ]
  },
  {
   "cell_type": "code",
   "execution_count": 8,
   "id": "dedede64",
   "metadata": {},
   "outputs": [
    {
     "name": "stdout",
     "output_type": "stream",
     "text": [
      "Variable   Type    Data/Info\n",
      "----------------------------\n",
      "x          int     3\n"
     ]
    }
   ],
   "source": [
    "%whos"
   ]
  },
  {
   "cell_type": "code",
   "execution_count": 9,
   "id": "9e96a27e",
   "metadata": {},
   "outputs": [
    {
     "ename": "NameError",
     "evalue": "name 'abcd' is not defined",
     "output_type": "error",
     "traceback": [
      "\u001b[1;31m---------------------------------------------------------------------------\u001b[0m",
      "\u001b[1;31mNameError\u001b[0m                                 Traceback (most recent call last)",
      "Input \u001b[1;32mIn [9]\u001b[0m, in \u001b[0;36m<cell line: 1>\u001b[1;34m()\u001b[0m\n\u001b[1;32m----> 1\u001b[0m \u001b[38;5;28mprint\u001b[39m(\u001b[43mabcd\u001b[49m)\n",
      "\u001b[1;31mNameError\u001b[0m: name 'abcd' is not defined"
     ]
    }
   ],
   "source": [
    "print(abcd)"
   ]
  },
  {
   "cell_type": "code",
   "execution_count": 13,
   "id": "5b4604c6",
   "metadata": {},
   "outputs": [],
   "source": [
    "c='adarsh'"
   ]
  },
  {
   "cell_type": "code",
   "execution_count": 11,
   "id": "81f701ac",
   "metadata": {},
   "outputs": [
    {
     "name": "stdout",
     "output_type": "stream",
     "text": [
      "<class 'str'>\n"
     ]
    }
   ],
   "source": [
    "print(type(c))"
   ]
  },
  {
   "cell_type": "code",
   "execution_count": 21,
   "id": "af60fbdf",
   "metadata": {},
   "outputs": [],
   "source": [
    "s= 2+5j"
   ]
  },
  {
   "cell_type": "code",
   "execution_count": 22,
   "id": "8f112be5",
   "metadata": {},
   "outputs": [
    {
     "name": "stdout",
     "output_type": "stream",
     "text": [
      "<class 'complex'>\n"
     ]
    }
   ],
   "source": [
    "print(type(s))"
   ]
  },
  {
   "cell_type": "code",
   "execution_count": 23,
   "id": "d759244d",
   "metadata": {},
   "outputs": [
    {
     "name": "stdout",
     "output_type": "stream",
     "text": [
      "Variable   Type       Data/Info\n",
      "-------------------------------\n",
      "c          str        adarsh\n",
      "s          complex    (2+5j)\n",
      "x          int        3\n"
     ]
    }
   ],
   "source": [
    "%whos"
   ]
  },
  {
   "cell_type": "code",
   "execution_count": 24,
   "id": "0a968f8d",
   "metadata": {},
   "outputs": [
    {
     "name": "stdout",
     "output_type": "stream",
     "text": [
      "adarshdixit\n"
     ]
    }
   ],
   "source": [
    "s1='adarsh'\n",
    "s2=\"dixit\"\n",
    "w=s1+s2\n",
    "print(w)"
   ]
  },
  {
   "cell_type": "code",
   "execution_count": 25,
   "id": "441ec7d7",
   "metadata": {},
   "outputs": [
    {
     "data": {
      "text/plain": [
       "3"
      ]
     },
     "execution_count": 25,
     "metadata": {},
     "output_type": "execute_result"
    }
   ],
   "source": [
    "10//3"
   ]
  },
  {
   "cell_type": "code",
   "execution_count": 26,
   "id": "5b15a198",
   "metadata": {},
   "outputs": [
    {
     "data": {
      "text/plain": [
       "3.3333333333333335"
      ]
     },
     "execution_count": 26,
     "metadata": {},
     "output_type": "execute_result"
    }
   ],
   "source": [
    "10/3"
   ]
  },
  {
   "cell_type": "code",
   "execution_count": 27,
   "id": "f45fdfb4",
   "metadata": {},
   "outputs": [
    {
     "data": {
      "text/plain": [
       "3.3333333333333335"
      ]
     },
     "execution_count": 27,
     "metadata": {},
     "output_type": "execute_result"
    }
   ],
   "source": [
    "_"
   ]
  },
  {
   "cell_type": "code",
   "execution_count": 33,
   "id": "1e09668f",
   "metadata": {},
   "outputs": [],
   "source": [
    "_s=3"
   ]
  },
  {
   "cell_type": "code",
   "execution_count": 35,
   "id": "4f96458e",
   "metadata": {},
   "outputs": [
    {
     "name": "stdout",
     "output_type": "stream",
     "text": [
      "3\n"
     ]
    }
   ],
   "source": [
    "print(_s)"
   ]
  },
  {
   "cell_type": "code",
   "execution_count": 36,
   "id": "13d87302",
   "metadata": {},
   "outputs": [
    {
     "name": "stdout",
     "output_type": "stream",
     "text": [
      "(5, 2)\n"
     ]
    }
   ],
   "source": [
    "b=divmod(27,5)\n",
    "print(b)"
   ]
  },
  {
   "cell_type": "code",
   "execution_count": 37,
   "id": "4a5028d7",
   "metadata": {},
   "outputs": [
    {
     "name": "stdout",
     "output_type": "stream",
     "text": [
      "5\n"
     ]
    }
   ],
   "source": [
    "print(b[0])"
   ]
  },
  {
   "cell_type": "code",
   "execution_count": 38,
   "id": "537de8a3",
   "metadata": {},
   "outputs": [
    {
     "data": {
      "text/plain": [
       "tuple"
      ]
     },
     "execution_count": 38,
     "metadata": {},
     "output_type": "execute_result"
    }
   ],
   "source": [
    "type(b)"
   ]
  },
  {
   "cell_type": "code",
   "execution_count": 39,
   "id": "5ba3207b",
   "metadata": {},
   "outputs": [
    {
     "data": {
      "text/plain": [
       "16"
      ]
     },
     "execution_count": 39,
     "metadata": {},
     "output_type": "execute_result"
    }
   ],
   "source": [
    "pow(2,4)"
   ]
  },
  {
   "cell_type": "code",
   "execution_count": 45,
   "id": "8fa00b26",
   "metadata": {},
   "outputs": [
    {
     "data": {
      "text/plain": [
       "1"
      ]
     },
     "execution_count": 45,
     "metadata": {},
     "output_type": "execute_result"
    }
   ],
   "source": [
    "pow(2,4,3)"
   ]
  },
  {
   "cell_type": "code",
   "execution_count": 48,
   "id": "124b1081",
   "metadata": {},
   "outputs": [
    {
     "name": "stdout",
     "output_type": "stream",
     "text": [
      "enter a no:3\n"
     ]
    }
   ],
   "source": [
    "x=int(input(\"enter a no:\"))"
   ]
  },
  {
   "cell_type": "code",
   "execution_count": 50,
   "id": "90a9cb5c",
   "metadata": {},
   "outputs": [
    {
     "name": "stdout",
     "output_type": "stream",
     "text": [
      "enter no :7\n",
      "C\n"
     ]
    }
   ],
   "source": [
    "a=int(input(\"enter no :\"))\n",
    "if a>=90:\n",
    "    print('A+')\n",
    "elif a>=80:\n",
    "    print('A')\n",
    "elif a>=70:\n",
    "    print('B')\n",
    "else:\n",
    "    print('C')"
   ]
  },
  {
   "cell_type": "markdown",
   "id": "3d41a229",
   "metadata": {},
   "source": [
    "# Calculator\n"
   ]
  },
  {
   "cell_type": "code",
   "execution_count": 53,
   "id": "a8c2f13b",
   "metadata": {},
   "outputs": [
    {
     "name": "stdout",
     "output_type": "stream",
     "text": [
      "enter first no :5\n",
      "enter second no :6\n",
      "Choose the operation:\n",
      " 1- Addition\n",
      " 2-Subtraction\n",
      " 3- Multiplication\n",
      " 4- Division\n",
      "enter the operation:4\n",
      "0.8333333333333334\n"
     ]
    }
   ],
   "source": [
    "def sum(a,b):\n",
    "    return a+b\n",
    "def sub(a,b):\n",
    "    return a-b\n",
    "def mul(a,b):\n",
    "    return a*b\n",
    "def div(a,b):\n",
    "    return a/b\n",
    "\n",
    "a=int(input(\"enter first no :\"))\n",
    "b=int(input(\"enter second no :\"))\n",
    "print(\"Choose the operation:\\n 1- Addition\\n 2-Subtraction\\n 3- Multiplication\\n 4- Division\")\n",
    "x=int(input(\"enter the operation:\"))\n",
    "if x==1:\n",
    "    print(sum(a,b))\n",
    "elif x==2:\n",
    "    print(sub(a,b))\n",
    "elif x==3:\n",
    "    print(mul(a,b))\n",
    "else:\n",
    "    print(div(a,b))"
   ]
  },
  {
   "cell_type": "code",
   "execution_count": 2,
   "id": "b1ece7f7",
   "metadata": {},
   "outputs": [
    {
     "name": "stdout",
     "output_type": "stream",
     "text": [
      "A 10\n",
      "B -19\n",
      "C abc\n"
     ]
    }
   ],
   "source": [
    "D = {\"A\":10,\"B\":-19,\"C\":\"abc\"}\n",
    "for x in D:\n",
    "    print(x,D[x])"
   ]
  },
  {
   "cell_type": "code",
   "execution_count": 6,
   "id": "dfae8012",
   "metadata": {},
   "outputs": [
    {
     "name": "stdout",
     "output_type": "stream",
     "text": [
      "2\n",
      "4\n",
      "6\n",
      "8\n",
      "10\n",
      "12\n",
      "14\n",
      "16\n",
      "18\n",
      "20\n"
     ]
    }
   ],
   "source": [
    "\n",
    "i=1\n",
    "while(i<=10):\n",
    "    print(i*2)\n",
    "    i+=1\n"
   ]
  },
  {
   "cell_type": "code",
   "execution_count": 8,
   "id": "9ad8d2ab",
   "metadata": {},
   "outputs": [],
   "source": [
    "def get():\n",
    "    d={}\n",
    "    while True:\n",
    "        studentId= input(\"enter studentId:\")\n",
    "        marks = input('enter the marks of student')\n",
    "        done = input('enter \"no\" to end entry')\n",
    "        if(studentId in d):\n",
    "            print('studentId already entered')\n",
    "        else:\n",
    "            d[studentId]=marks.split(\",\")\n",
    "        if(done.lower()=='no'):\n",
    "            return d"
   ]
  },
  {
   "cell_type": "code",
   "execution_count": 9,
   "id": "8878caea",
   "metadata": {},
   "outputs": [
    {
     "name": "stdout",
     "output_type": "stream",
     "text": [
      "enter studentId:1\n",
      "enter the marks of student34,56\n",
      "enter \"no\" to end entryr\n",
      "enter studentId:3\n",
      "enter the marks of student45,25\n",
      "enter \"no\" to end entryno\n"
     ]
    },
    {
     "data": {
      "text/plain": [
       "{'1': ['34', '56'], '3': ['45', '25']}"
      ]
     },
     "execution_count": 9,
     "metadata": {},
     "output_type": "execute_result"
    }
   ],
   "source": [
    "get()"
   ]
  },
  {
   "cell_type": "code",
   "execution_count": null,
   "id": "fa8cf7c7",
   "metadata": {},
   "outputs": [],
   "source": []
  }
 ],
 "metadata": {
  "kernelspec": {
   "display_name": "Python 3 (ipykernel)",
   "language": "python",
   "name": "python3"
  },
  "language_info": {
   "codemirror_mode": {
    "name": "ipython",
    "version": 3
   },
   "file_extension": ".py",
   "mimetype": "text/x-python",
   "name": "python",
   "nbconvert_exporter": "python",
   "pygments_lexer": "ipython3",
   "version": "3.10.2"
  }
 },
 "nbformat": 4,
 "nbformat_minor": 5
}
